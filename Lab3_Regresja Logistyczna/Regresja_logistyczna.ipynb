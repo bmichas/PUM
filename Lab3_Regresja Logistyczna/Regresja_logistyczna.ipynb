{
 "cells": [
  {
   "cell_type": "code",
   "execution_count": 5,
   "id": "93e63960",
   "metadata": {},
   "outputs": [
    {
     "name": "stdout",
     "output_type": "stream",
     "text": [
      "[[ 0.34535961 -1.85210137]\n",
      " [ 0.50900605  0.0810493 ]\n",
      " [-1.127237   -0.13165856]\n",
      " ...\n",
      " [-2.43860829  2.4997709 ]\n",
      " [-1.36608059  3.1328733 ]\n",
      " [ 0.65016852 -0.85596441]]\n"
     ]
    }
   ],
   "source": [
    "from sklearn.model_selection import train_test_split\n",
    "from sklearn import datasets, metrics\n",
    "\n",
    "samples =2428\n",
    "seed = 244828\n",
    "times = 100 \n",
    "XY, C =  datasets.make_classification(n_features=2, n_redundant=0, n_classes=2, n_clusters_per_class=1, random_state=seed,n_samples=samples)\n",
    "XY_train,XY_test,C_train,C_test = train_test_split(XY,C, train_size=0.8,test_size=0.2, random_state=seed)\n",
    "\n",
    "\n"
   ]
  },
  {
   "cell_type": "code",
   "execution_count": 3,
   "id": "3db54c05",
   "metadata": {},
   "outputs": [
    {
     "ename": "NameError",
     "evalue": "name 'XY_train' is not defined",
     "output_type": "error",
     "traceback": [
      "\u001b[1;31m---------------------------------------------------------------------------\u001b[0m",
      "\u001b[1;31mNameError\u001b[0m                                 Traceback (most recent call last)",
      "Input \u001b[1;32mIn [3]\u001b[0m, in \u001b[0;36m<cell line: 1>\u001b[1;34m()\u001b[0m\n\u001b[1;32m----> 1\u001b[0m \u001b[38;5;28mprint\u001b[39m(\u001b[43mXY_train\u001b[49m)\n",
      "\u001b[1;31mNameError\u001b[0m: name 'XY_train' is not defined"
     ]
    }
   ],
   "source": []
  },
  {
   "cell_type": "code",
   "execution_count": null,
   "id": "d42f2499",
   "metadata": {},
   "outputs": [],
   "source": []
  }
 ],
 "metadata": {
  "kernelspec": {
   "display_name": "Python 3 (ipykernel)",
   "language": "python",
   "name": "python3"
  },
  "language_info": {
   "codemirror_mode": {
    "name": "ipython",
    "version": 3
   },
   "file_extension": ".py",
   "mimetype": "text/x-python",
   "name": "python",
   "nbconvert_exporter": "python",
   "pygments_lexer": "ipython3",
   "version": "3.9.2"
  }
 },
 "nbformat": 4,
 "nbformat_minor": 5
}
